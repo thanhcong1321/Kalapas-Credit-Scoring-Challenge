{
 "cells": [
  {
   "cell_type": "code",
   "execution_count": 1,
   "metadata": {},
   "outputs": [],
   "source": [
    "#import dữ liệu \n",
    "import pandas as pd\n",
    "import numpy as np\n",
    "import seaborn as sns\n",
    "import matplotlib.pyplot as plt\n",
    "from collections import Counter\n",
    "\n",
    "%matplotlib inline"
   ]
  },
  {
   "cell_type": "code",
   "execution_count": 3,
   "metadata": {},
   "outputs": [
    {
     "name": "stderr",
     "output_type": "stream",
     "text": [
      "C:\\Users\\Thanh Cong\\miniconda3\\lib\\site-packages\\IPython\\core\\interactiveshell.py:3145: DtypeWarning: Columns (51) have mixed types.Specify dtype option on import or set low_memory=False.\n",
      "  has_raised = await self.run_ast_nodes(code_ast.body, cell_name,\n",
      "C:\\Users\\Thanh Cong\\miniconda3\\lib\\site-packages\\IPython\\core\\interactiveshell.py:3145: DtypeWarning: Columns (50) have mixed types.Specify dtype option on import or set low_memory=False.\n",
      "  has_raised = await self.run_ast_nodes(code_ast.body, cell_name,\n"
     ]
    }
   ],
   "source": [
    "train_df = pd.read_csv('data/train.csv')\n",
    "test_df = pd.read_csv('data/test.csv')\n",
    "\n",
    "total_df = pd.concat([train_df, test_df])"
   ]
  },
  {
   "cell_type": "markdown",
   "metadata": {},
   "source": [
    "# Data Processing"
   ]
  },
  {
   "cell_type": "code",
   "execution_count": 3,
   "metadata": {},
   "outputs": [],
   "source": [
    "#xử lý biến tuổi\n",
    "#Vi du lieu tuoi source2 nhieu hon source1 nen fill tu source 1 sang source2\n",
    "#Cac gia tri duoi 18 cho ve bang nan\n",
    "total_df['age']=total_df['age_source2'].mask(pd.isnull, total_df['age_source1'])\n",
    "#total_df.age[total_df.age<18] = np.nan\n",
    "total_df.drop([\"age_source1\", \"age_source2\"], axis = 1, inplace = True)\n",
    "\n"
   ]
  },
  {
   "cell_type": "code",
   "execution_count": 4,
   "metadata": {},
   "outputs": [],
   "source": [
    "# FIELD 7:\n",
    "\n",
    "total_df['FIELD_7_ISNA'] = total_df.FIELD_7.isna()\n",
    "total_df.FIELD_7.fillna('[]', inplace=True)\n",
    "total_df.FIELD_7 = total_df.FIELD_7.map(eval)\n",
    "\n",
    "# # Tạo cột đếm số lượng phần tử\n",
    "total_df['FIELD_7_len'] = total_df.FIELD_7.str.len()\n",
    "\n",
    "total_df.loc[total_df.FIELD_7_ISNA,'FIELD_7_len'] = np.nan\n",
    "\n",
    "total_df.drop(\"FIELD_7_ISNA\",axis=1,inplace=True)\n",
    "#total_df.drop(\"FIELD_7\", axis=1, inplace=True)"
   ]
  },
  {
   "cell_type": "code",
   "execution_count": 5,
   "metadata": {},
   "outputs": [],
   "source": [
    "#xử lý biến \"province\"\n",
    "total_df.replace('Tỉnh Hòa Bình', 'Tỉnh Hoà Bình', inplace=True)\n",
    "total_df.replace('Tỉnh Vĩnh phúc', 'Tỉnh Vĩnh Phúc', inplace=True)\n",
    "\n",
    "# xử lý biến maCv bị lẫn dữ liệu số\n",
    "total_df.maCv.replace(['0','7','2253','15097','135','147','2853','2983','4999','5339','8059','10958','1006481','1006694','1020883','1020096','17169','275744'],np.nan,inplace = True)\n",
    "\n",
    "#xử lý FIELD_12 bị lẫn dữ liệu chữ\n",
    "total_df.FIELD_12.replace(['DN','GD','TN','HT','DN','XK','DT','DK'],np.nan,inplace = True)\n",
    "\n",
    "# Xử lý FIELD_9 bị lẫn dữ liệu số \n",
    "total_df.FIELD_9.replace(['75','74','80','86','79'],np.nan,inplace = True)\n",
    "\n",
    "# Xử lý FIELD_13 bị lẫn dữ liệu số \n",
    "total_df.FIELD_13.replace(['0','4','8'],np.nan,inplace = True)\n",
    "\n",
    "# Xử lý FIELD_39 bị lẫn dữ liệu số \n",
    "total_df.FIELD_39.replace(['1'],np.nan,inplace = True)\n",
    "\n",
    "# Xử lý FIELD_40 bị lẫn dữ liệu loại khác\n",
    "total_df.FIELD_40.replace(['02 05 08 11','05 08 11 02','08 02'],np.nan,inplace = True)\n",
    "\n",
    "# Xử lý FIELD_43 bị lẫn dữ liệu số \n",
    "total_df.FIELD_43.replace(['0','5'],np.nan,inplace = True)\n",
    "\n"
   ]
  },
  {
   "cell_type": "code",
   "execution_count": 6,
   "metadata": {},
   "outputs": [],
   "source": [
    "# đồng nhất dữ liệu true, false\n",
    "map_true = ['True', 'TRUE']\n",
    "total_df.replace(map_true, True, inplace = True)\n",
    "map_false = ['False', 'FALSE']\n",
    "total_df.replace(map_false, False, inplace = True)\n",
    "\n",
    "# đồng nhất dữ liệu đưa NaN, na, nan về NaN\n",
    "total_df.replace('NaN', np.nan,inplace = True)\n",
    "total_df.replace('nan', np.nan, inplace=True)\n",
    "total_df.replace('na', np.nan, inplace=True)\n",
    "\n",
    "total_df.replace('None',-1, inplace=True)\n",
    "\n"
   ]
  },
  {
   "cell_type": "code",
   "execution_count": 7,
   "metadata": {},
   "outputs": [],
   "source": [
    "total_df.FIELD_3.replace(-1,np.nan, inplace = True)\n",
    "total_df['FIELD_3_365'] = (total_df.FIELD_3/365).round(0)\n",
    "total_df['FIELD_3_RESIDUAL'] = total_df.FIELD_3_365*365 - total_df.FIELD_3\n",
    "total_df[['FIELD_3', 'FIELD_3_365', 'FIELD_3_RESIDUAL']]\n",
    "\n",
    "# Trong tài chính, người ta quan tâm tới số ngày quá hạn hơn là số năm vay.\n",
    "total_df.drop('FIELD_3_365', axis=1, inplace = True)"
   ]
  },
  {
   "cell_type": "code",
   "execution_count": 8,
   "metadata": {},
   "outputs": [],
   "source": [
    "train_df= total_df[total_df['id'] < 30000]\n",
    "test_df = total_df[total_df['id'] >= 30000].drop(columns=['label'])"
   ]
  },
  {
   "cell_type": "code",
   "execution_count": 9,
   "metadata": {},
   "outputs": [],
   "source": [
    "train_df.to_csv('train_to_randomForest.csv', index=False)\n",
    "test_df.to_csv('test_to_randomForest.csv', index=False)"
   ]
  },
  {
   "cell_type": "code",
   "execution_count": null,
   "metadata": {},
   "outputs": [],
   "source": []
  }
 ],
 "metadata": {
  "kernelspec": {
   "display_name": "Python 3",
   "language": "python",
   "name": "python3"
  },
  "language_info": {
   "codemirror_mode": {
    "name": "ipython",
    "version": 3
   },
   "file_extension": ".py",
   "mimetype": "text/x-python",
   "name": "python",
   "nbconvert_exporter": "python",
   "pygments_lexer": "ipython3",
   "version": "3.8.3"
  }
 },
 "nbformat": 4,
 "nbformat_minor": 4
}
